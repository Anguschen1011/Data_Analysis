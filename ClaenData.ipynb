{
 "cells": [
  {
   "cell_type": "code",
   "execution_count": 1,
   "id": "11d4f3f8",
   "metadata": {},
   "outputs": [
    {
     "name": "stdout",
     "output_type": "stream",
     "text": [
      "原始大小:\n",
      " (20640, 10)\n",
      "\n",
      "去除NAN值的大小:\n",
      " (20433, 10)\n",
      "\n"
     ]
    }
   ],
   "source": [
    "from sklearn import datasets, metrics\n",
    "from sklearn.model_selection import train_test_split\n",
    "from sklearn.tree import DecisionTreeClassifier, export_graphviz\n",
    "from six import StringIO\n",
    "import pydotplus\n",
    "from IPython.display import Image\n",
    "import pandas as pd\n",
    "import numpy as np\n",
    "\n",
    "# 印出原始數據框的大小\n",
    "df = pd.read_csv('/Users/anguschen/Desktop/Data/data/housing.csv')\n",
    "print(\"原始大小:\\n\", df.shape, end=\"\\n\\n\")\n",
    "\n",
    "# 檢查數據框中是否存在缺失值（NAN值），並將包含缺失值的行印出\n",
    "nan_rows = df[df.isnull().any(axis=1)]\n",
    "\n",
    "# 這部分程式碼將刪除包含缺失值的行，從而清理數據。然後它印出已刪除缺失值後的數據框的大小\n",
    "df = df.dropna()\n",
    "\n",
    "print(\"去除NAN值的大小:\\n\", df.shape, end=\"\\n\\n\")"
   ]
  },
  {
   "cell_type": "code",
   "execution_count": 2,
   "id": "60725dc2",
   "metadata": {},
   "outputs": [
    {
     "name": "stdout",
     "output_type": "stream",
     "text": [
      "已保存處理後的數據到: /Users/anguschen/Desktop/Data/data/cleaned_housing.csv\n"
     ]
    }
   ],
   "source": [
    "output_file_path = '/Users/anguschen/Desktop/Data/data/cleaned_housing.csv'\n",
    "df.to_csv(output_file_path, index=False)  # 將DataFrame保存為CSV文件，不包括索引列\n",
    "\n",
    "print(\"已保存處理後的數據到:\", output_file_path)"
   ]
  },
  {
   "cell_type": "code",
   "execution_count": null,
   "id": "d1b247cc",
   "metadata": {},
   "outputs": [],
   "source": []
  }
 ],
 "metadata": {
  "kernelspec": {
   "display_name": "Python 3 (ipykernel)",
   "language": "python",
   "name": "python3"
  },
  "language_info": {
   "codemirror_mode": {
    "name": "ipython",
    "version": 3
   },
   "file_extension": ".py",
   "mimetype": "text/x-python",
   "name": "python",
   "nbconvert_exporter": "python",
   "pygments_lexer": "ipython3",
   "version": "3.11.5"
  }
 },
 "nbformat": 4,
 "nbformat_minor": 5
}
